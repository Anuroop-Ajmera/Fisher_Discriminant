{
 "cells": [
  {
   "cell_type": "markdown",
   "id": "e1d8f7c7",
   "metadata": {},
   "source": [
    "### a. KNN Classifier"
   ]
  },
  {
   "cell_type": "code",
   "execution_count": 8,
   "id": "d834bbc0",
   "metadata": {},
   "outputs": [],
   "source": [
    "import pandas as pd\n",
    "import numpy as np\n",
    "#import sklearn\n",
    "from sklearn.model_selection import train_test_split\n",
    "from sklearn.neighbors import KNeighborsClassifier\n",
    "from sklearn.metrics import confusion_matrix,accuracy_score\n",
    "import matplotlib.pyplot as plt"
   ]
  },
  {
   "cell_type": "markdown",
   "id": "265bf97a",
   "metadata": {},
   "source": [
    "### Step-1"
   ]
  },
  {
   "cell_type": "code",
   "execution_count": 9,
   "id": "33bb796d",
   "metadata": {},
   "outputs": [
    {
     "data": {
      "text/html": [
       "<div>\n",
       "<style scoped>\n",
       "    .dataframe tbody tr th:only-of-type {\n",
       "        vertical-align: middle;\n",
       "    }\n",
       "\n",
       "    .dataframe tbody tr th {\n",
       "        vertical-align: top;\n",
       "    }\n",
       "\n",
       "    .dataframe thead th {\n",
       "        text-align: right;\n",
       "    }\n",
       "</style>\n",
       "<table border=\"1\" class=\"dataframe\">\n",
       "  <thead>\n",
       "    <tr style=\"text-align: right;\">\n",
       "      <th></th>\n",
       "      <th>letter</th>\n",
       "      <th>xbox</th>\n",
       "      <th>ybox</th>\n",
       "      <th>width</th>\n",
       "      <th>height</th>\n",
       "      <th>onpix</th>\n",
       "      <th>xbar</th>\n",
       "      <th>ybar</th>\n",
       "      <th>x2bar</th>\n",
       "      <th>y2bar</th>\n",
       "      <th>xybar</th>\n",
       "      <th>x2ybar</th>\n",
       "      <th>xy2bar</th>\n",
       "      <th>xedge</th>\n",
       "      <th>xedgey</th>\n",
       "      <th>yedge</th>\n",
       "      <th>yedgex</th>\n",
       "    </tr>\n",
       "  </thead>\n",
       "  <tbody>\n",
       "    <tr>\n",
       "      <th>0</th>\n",
       "      <td>T</td>\n",
       "      <td>2</td>\n",
       "      <td>8</td>\n",
       "      <td>3</td>\n",
       "      <td>5</td>\n",
       "      <td>1</td>\n",
       "      <td>8</td>\n",
       "      <td>13</td>\n",
       "      <td>0</td>\n",
       "      <td>6</td>\n",
       "      <td>6</td>\n",
       "      <td>10</td>\n",
       "      <td>8</td>\n",
       "      <td>0</td>\n",
       "      <td>8</td>\n",
       "      <td>0</td>\n",
       "      <td>8</td>\n",
       "    </tr>\n",
       "    <tr>\n",
       "      <th>1</th>\n",
       "      <td>I</td>\n",
       "      <td>5</td>\n",
       "      <td>12</td>\n",
       "      <td>3</td>\n",
       "      <td>7</td>\n",
       "      <td>2</td>\n",
       "      <td>10</td>\n",
       "      <td>5</td>\n",
       "      <td>5</td>\n",
       "      <td>4</td>\n",
       "      <td>13</td>\n",
       "      <td>3</td>\n",
       "      <td>9</td>\n",
       "      <td>2</td>\n",
       "      <td>8</td>\n",
       "      <td>4</td>\n",
       "      <td>10</td>\n",
       "    </tr>\n",
       "    <tr>\n",
       "      <th>2</th>\n",
       "      <td>D</td>\n",
       "      <td>4</td>\n",
       "      <td>11</td>\n",
       "      <td>6</td>\n",
       "      <td>8</td>\n",
       "      <td>6</td>\n",
       "      <td>10</td>\n",
       "      <td>6</td>\n",
       "      <td>2</td>\n",
       "      <td>6</td>\n",
       "      <td>10</td>\n",
       "      <td>3</td>\n",
       "      <td>7</td>\n",
       "      <td>3</td>\n",
       "      <td>7</td>\n",
       "      <td>3</td>\n",
       "      <td>9</td>\n",
       "    </tr>\n",
       "    <tr>\n",
       "      <th>3</th>\n",
       "      <td>N</td>\n",
       "      <td>7</td>\n",
       "      <td>11</td>\n",
       "      <td>6</td>\n",
       "      <td>6</td>\n",
       "      <td>3</td>\n",
       "      <td>5</td>\n",
       "      <td>9</td>\n",
       "      <td>4</td>\n",
       "      <td>6</td>\n",
       "      <td>4</td>\n",
       "      <td>4</td>\n",
       "      <td>10</td>\n",
       "      <td>6</td>\n",
       "      <td>10</td>\n",
       "      <td>2</td>\n",
       "      <td>8</td>\n",
       "    </tr>\n",
       "    <tr>\n",
       "      <th>4</th>\n",
       "      <td>G</td>\n",
       "      <td>2</td>\n",
       "      <td>1</td>\n",
       "      <td>3</td>\n",
       "      <td>1</td>\n",
       "      <td>1</td>\n",
       "      <td>8</td>\n",
       "      <td>6</td>\n",
       "      <td>6</td>\n",
       "      <td>6</td>\n",
       "      <td>6</td>\n",
       "      <td>5</td>\n",
       "      <td>9</td>\n",
       "      <td>1</td>\n",
       "      <td>7</td>\n",
       "      <td>5</td>\n",
       "      <td>10</td>\n",
       "    </tr>\n",
       "  </tbody>\n",
       "</table>\n",
       "</div>"
      ],
      "text/plain": [
       "  letter  xbox   ybox   width   height  onpix   xbar   ybar   x2bar  y2bar   \\\n",
       "0      T      2      8       3       5       1      8     13      0       6   \n",
       "1      I      5     12       3       7       2     10      5      5       4   \n",
       "2      D      4     11       6       8       6     10      6      2       6   \n",
       "3      N      7     11       6       6       3      5      9      4       6   \n",
       "4      G      2      1       3       1       1      8      6      6       6   \n",
       "\n",
       "   xybar   x2ybar  xy2bar  xedge   xedgey  yedge   yedgex  \n",
       "0       6      10       8       0       8       0       8  \n",
       "1      13       3       9       2       8       4      10  \n",
       "2      10       3       7       3       7       3       9  \n",
       "3       4       4      10       6      10       2       8  \n",
       "4       6       5       9       1       7       5      10  "
      ]
     },
     "execution_count": 9,
     "metadata": {},
     "output_type": "execute_result"
    }
   ],
   "source": [
    "dataset = pd.read_csv('./letter-recognition.csv')\n",
    "dataset.head(5)"
   ]
  },
  {
   "cell_type": "code",
   "execution_count": 10,
   "id": "cb60794a",
   "metadata": {},
   "outputs": [],
   "source": [
    "train_set = pd.DataFrame(data=None, columns = dataset.columns)\n",
    "test_set = pd.DataFrame(data=None, columns = dataset.columns)\n",
    "#train_set"
   ]
  },
  {
   "cell_type": "markdown",
   "id": "82f5ea0d",
   "metadata": {},
   "source": [
    "### Step-2"
   ]
  },
  {
   "cell_type": "code",
   "execution_count": 11,
   "id": "2e0fda66",
   "metadata": {},
   "outputs": [],
   "source": [
    "def train_test_splitting(full_dataframe:pd.DataFrame, tgt_class:str):\n",
    "    global train_set\n",
    "    global test_set\n",
    "    filtered_dataframe = full_dataframe[full_dataframe.letter==tgt_class]\n",
    "    train, test = train_test_split(filtered_dataframe, test_size = 0.3)\n",
    "    train_set = pd.concat([train_set,train], axis=0)\n",
    "    test_set = pd.concat([test_set,test], axis=0)"
   ]
  },
  {
   "cell_type": "code",
   "execution_count": 12,
   "id": "2254dfd9",
   "metadata": {},
   "outputs": [
    {
     "data": {
      "text/plain": [
       "array(['T', 'I', 'D', 'N', 'G', 'S', 'B', 'A', 'J', 'M', 'X', 'O', 'R',\n",
       "       'F', 'C', 'H', 'W', 'L', 'P', 'E', 'V', 'Y', 'Q', 'U', 'K', 'Z'],\n",
       "      dtype=object)"
      ]
     },
     "execution_count": 12,
     "metadata": {},
     "output_type": "execute_result"
    }
   ],
   "source": [
    "dataset.letter.unique()"
   ]
  },
  {
   "cell_type": "markdown",
   "id": "956e0aa0",
   "metadata": {},
   "source": [
    "### Step-3"
   ]
  },
  {
   "cell_type": "code",
   "execution_count": 13,
   "id": "a3324c0e",
   "metadata": {},
   "outputs": [],
   "source": [
    "for tgt_class in dataset.letter.unique():\n",
    "    #print(\"target class is:\",tgt_class)\n",
    "    train_test_splitting(dataset, tgt_class)"
   ]
  },
  {
   "cell_type": "code",
   "execution_count": 14,
   "id": "b6ca91e4",
   "metadata": {},
   "outputs": [
    {
     "data": {
      "text/plain": [
       "array(['T', 'I', 'D', 'N', 'G', 'S', 'B', 'A', 'J', 'M', 'X', 'O', 'R',\n",
       "       'F', 'C', 'H', 'W', 'L', 'P', 'E', 'V', 'Y', 'Q', 'U', 'K', 'Z'],\n",
       "      dtype=object)"
      ]
     },
     "execution_count": 14,
     "metadata": {},
     "output_type": "execute_result"
    }
   ],
   "source": [
    "train_set.letter.unique()"
   ]
  },
  {
   "cell_type": "code",
   "execution_count": 15,
   "id": "44d7a4c8",
   "metadata": {},
   "outputs": [
    {
     "data": {
      "text/plain": [
       "array(['T', 'I', 'D', 'N', 'G', 'S', 'B', 'A', 'J', 'M', 'X', 'O', 'R',\n",
       "       'F', 'C', 'H', 'W', 'L', 'P', 'E', 'V', 'Y', 'Q', 'U', 'K', 'Z'],\n",
       "      dtype=object)"
      ]
     },
     "execution_count": 15,
     "metadata": {},
     "output_type": "execute_result"
    }
   ],
   "source": [
    "test_set.letter.unique()"
   ]
  },
  {
   "cell_type": "code",
   "execution_count": 16,
   "id": "6f92df00",
   "metadata": {},
   "outputs": [],
   "source": [
    "#X_train, X_test, y_train, y_test = train_test_split(X, y, test_size = 0.30, random_state = 0)"
   ]
  },
  {
   "cell_type": "markdown",
   "id": "e16388a2",
   "metadata": {},
   "source": [
    "### Step-4"
   ]
  },
  {
   "cell_type": "code",
   "execution_count": 17,
   "id": "3d53f0ce",
   "metadata": {},
   "outputs": [],
   "source": [
    "X_train = train_set.drop(['letter'], axis=1)\n",
    "y_train = train_set['letter']\n",
    "X_test = test_set.drop(['letter'], axis=1)\n",
    "y_test = test_set['letter']"
   ]
  },
  {
   "cell_type": "code",
   "execution_count": 18,
   "id": "b2fa226b",
   "metadata": {},
   "outputs": [
    {
     "data": {
      "text/plain": [
       "(pandas.core.frame.DataFrame,\n",
       " pandas.core.frame.DataFrame,\n",
       " pandas.core.series.Series,\n",
       " pandas.core.series.Series)"
      ]
     },
     "execution_count": 18,
     "metadata": {},
     "output_type": "execute_result"
    }
   ],
   "source": [
    "type(X_train), type(X_test), type(y_train), type(y_test)"
   ]
  },
  {
   "cell_type": "code",
   "execution_count": 19,
   "id": "15ef0ed3",
   "metadata": {},
   "outputs": [],
   "source": [
    "k_value = []\n",
    "knn_train_accuracy = []\n",
    "knn_test_accuracy = []\n",
    "def knn_classifier(k_val):\n",
    "    #knn_value = k_val\n",
    "    knn_classifier = KNeighborsClassifier(n_neighbors = k_val, metric = 'euclidean')\n",
    "    knn_classifier.fit(X_train, y_train)\n",
    "    \n",
    "    #compute train accuracy\n",
    "    y_pred_train = knn_classifier.predict(X_train)\n",
    "    #train_accuracy = accuracy_score(y_train, y_pred_train)\n",
    "    knn_train_accuracy.append(accuracy_score(y_train, y_pred_train))\n",
    "    \n",
    "    #compute test accuracy\n",
    "    y_pred_test = knn_classifier.predict(X_test)\n",
    "    #test_accuracy = accuracy_score(y_test, y_pred_test)\n",
    "    knn_test_accuracy.append(accuracy_score(y_test, y_pred_test))\n",
    "    \n",
    "    k_value.append(k_val)\n",
    "    \n",
    "    \n",
    "    #return(sigma, train_accuracy,test_accuracy)\n",
    "    "
   ]
  },
  {
   "cell_type": "code",
   "execution_count": 20,
   "id": "aefd3b69",
   "metadata": {},
   "outputs": [],
   "source": [
    "for k in np.arange(1,16):\n",
    "    knn_classifier(k)"
   ]
  },
  {
   "cell_type": "code",
   "execution_count": 21,
   "id": "6e37e97d",
   "metadata": {},
   "outputs": [
    {
     "name": "stdout",
     "output_type": "stream",
     "text": [
      "[1, 2, 3, 4, 5, 6, 7, 8, 9, 10, 11, 12, 13, 14, 15] [1.0, 0.9749088569590393, 0.9798413038816213, 0.9731217385088283, 0.9727643148187862, 0.968618200014297, 0.9682607763242548, 0.9646150546858245, 0.9638287225677318, 0.9596111230252341, 0.9584673672170991, 0.9566087640288798, 0.9541067981985846, 0.9511759239402388, 0.9501036528701122] [0.9532523706538014, 0.9356180336050574, 0.9460988188321411, 0.946930627183497, 0.9485942438862086, 0.9449342871402429, 0.9460988188321411, 0.9442688404591583, 0.9416070537348195, 0.9414406920645483, 0.9399434370321078, 0.9371152886374979, 0.9359507569455997, 0.9337880552320745, 0.9317917151888205]\n"
     ]
    }
   ],
   "source": [
    "print (k_value,knn_train_accuracy,knn_test_accuracy)"
   ]
  },
  {
   "cell_type": "code",
   "execution_count": 22,
   "id": "de3932f1",
   "metadata": {},
   "outputs": [
    {
     "data": {
      "text/plain": [
       "<matplotlib.legend.Legend at 0x19837606b48>"
      ]
     },
     "execution_count": 22,
     "metadata": {},
     "output_type": "execute_result"
    },
    {
     "data": {
      "image/png": "[encoded data removed]",
      "text/plain": [
       "<Figure size 432x288 with 1 Axes>"
      ]
     },
     "metadata": {
      "needs_background": "light"
     },
     "output_type": "display_data"
    }
   ],
   "source": [
    "plt.plot(k_value, knn_train_accuracy, label = \"KNN train accuracy\")\n",
    "plt.plot(k_value, knn_test_accuracy, label = \"KNN test accuracy\")\n",
    "plt.xlabel('K-Value')\n",
    "plt.ylabel('Accuracy')\n",
    "plt.legend()"
   ]
  },
  {
   "cell_type": "markdown",
   "id": "6aeb7771",
   "metadata": {},
   "source": [
    "### Looking at the above graph, 'Sweet Spot' for KNN Classifier is at K = 3"
   ]
  },
  {
   "cell_type": "markdown",
   "id": "db6bff5d",
   "metadata": {},
   "source": [
    "### b. Parzen Window Classifier"
   ]
  },
  {
   "cell_type": "code",
   "execution_count": 23,
   "id": "48df123e",
   "metadata": {},
   "outputs": [],
   "source": [
    "def compute_sigma(distances):\n",
    "    #print(\"sigma is:\", sigma)\n",
    "    distance_sq = np.square(distances)\n",
    "    parzen_sigma = 1/(sigma*np.sqrt(2*np.pi))*np.exp(-distance_sq/(2*np.square(sigma)))\n",
    "    return parzen_sigma "
   ]
  },
  {
   "cell_type": "code",
   "execution_count": 24,
   "id": "6a3915ee",
   "metadata": {},
   "outputs": [
    {
     "data": {
      "text/plain": [
       "array([1.25794409e-01, 3.31590463e-02, 3.79866201e-03, 1.11236208e-05])"
      ]
     },
     "execution_count": 24,
     "metadata": {},
     "output_type": "execute_result"
    }
   ],
   "source": [
    "#testing\n",
    "sigma = 3\n",
    "compute_sigma([1,5,8,13])"
   ]
  },
  {
   "cell_type": "code",
   "execution_count": 25,
   "id": "c7575ed3",
   "metadata": {},
   "outputs": [],
   "source": [
    "sigma_value = []\n",
    "parzen_train_accuracy = []\n",
    "parzen_test_accuracy = []\n",
    "#sigma=1\n",
    "def parzen_classifier(sigma_val):\n",
    "    #sigma = sigma_val\n",
    "    knn_classifier = KNeighborsClassifier(n_neighbors = 3, weights = compute_sigma)\n",
    "    knn_classifier.fit(X_train, y_train)\n",
    "    \n",
    "    #compute train accuracy\n",
    "    y_pred_train = knn_classifier.predict(X_train)\n",
    "    #train_accuracy = accuracy_score(y_train, y_pred_train)\n",
    "    parzen_train_accuracy.append(accuracy_score(y_train, y_pred_train))\n",
    "    \n",
    "    #compute test accuracy\n",
    "    y_pred_test = knn_classifier.predict(X_test)\n",
    "    #test_accuracy = accuracy_score(y_test, y_pred_test)\n",
    "    parzen_test_accuracy.append(accuracy_score(y_test, y_pred_test))\n",
    "    \n",
    "    sigma_value.append(sigma_val)\n",
    "    \n",
    "    \n",
    "    #return(sigma, train_accuracy,test_accuracy)"
   ]
  },
  {
   "cell_type": "code",
   "execution_count": 26,
   "id": "cffc2f7a",
   "metadata": {},
   "outputs": [],
   "source": [
    "for sigma in np.arange(1,11):\n",
    "    parzen_classifier(sigma)\n",
    "    \n",
    "# sigma will act as a global variable for function compute_sigma"
   ]
  },
  {
   "cell_type": "code",
   "execution_count": 27,
   "id": "0a2a95f1",
   "metadata": {},
   "outputs": [
    {
     "name": "stdout",
     "output_type": "stream",
     "text": [
      "[1, 2, 3, 4, 5, 6, 7, 8, 9, 10] [1.0, 0.9969261562656373, 0.9879190792765744, 0.9852741439702624, 0.985059689756237, 0.985059689756237, 0.985059689756237, 0.985059689756237, 0.985059689756237, 0.985059689756237] [0.9572450507403094, 0.9542505406754284, 0.9525869239727167, 0.9525869239727167, 0.9525869239727167, 0.9525869239727167, 0.9525869239727167, 0.9525869239727167, 0.9525869239727167, 0.9525869239727167]\n"
     ]
    }
   ],
   "source": [
    "print (sigma_value,parzen_train_accuracy,parzen_test_accuracy)"
   ]
  },
  {
   "cell_type": "code",
   "execution_count": 28,
   "id": "2bac3fc2",
   "metadata": {},
   "outputs": [
    {
     "data": {
      "text/plain": [
       "<matplotlib.legend.Legend at 0x19836cdfdc8>"
      ]
     },
     "execution_count": 28,
     "metadata": {},
     "output_type": "execute_result"
    },
    {
     "data": {
      "image/png": "[encoded data removed]",
      "text/plain": [
       "<Figure size 432x288 with 1 Axes>"
      ]
     },
     "metadata": {
      "needs_background": "light"
     },
     "output_type": "display_data"
    }
   ],
   "source": [
    "plt.plot(sigma_value, parzen_train_accuracy, label = \"Parzen train accuracy\")\n",
    "plt.plot(sigma_value, parzen_test_accuracy, label = \"Parzen test accuracy\")\n",
    "plt.xlabel('Sigma Value')\n",
    "plt.ylabel('Accuracy')\n",
    "plt.legend()"
   ]
  },
  {
   "cell_type": "markdown",
   "id": "7ef743d1",
   "metadata": {},
   "source": [
    "### Looking at the above graph, 'Sweet Spot' for Parzen Classifier is at sigma = 2"
   ]
  },
  {
   "cell_type": "code",
   "execution_count": null,
   "id": "d78b0809",
   "metadata": {},
   "outputs": [],
   "source": []
  }
 ],
 "metadata": {
  "kernelspec": {
   "display_name": "Python 3",
   "language": "python",
   "name": "python3"
  },
  "language_info": {
   "codemirror_mode": {
    "name": "ipython",
    "version": 3
   },
   "file_extension": ".py",
   "mimetype": "text/x-python",
   "name": "python",
   "nbconvert_exporter": "python",
   "pygments_lexer": "ipython3",
   "version": "3.8.8"
  }
 },
 "nbformat": 4,
 "nbformat_minor": 5
}
